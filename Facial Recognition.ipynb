{
 "cells": [
  {
   "cell_type": "markdown",
   "metadata": {},
   "source": [
    "# Facial Recognition 人物認識"
   ]
  },
  {
   "cell_type": "markdown",
   "metadata": {},
   "source": [
    "![title](https://miro.medium.com/max/1028/1*MnbUSSXG1IDS9mXC0H8cKQ.png)"
   ]
  },
  {
   "cell_type": "markdown",
   "metadata": {},
   "source": [
    "## 1. BACKGROUND ON FACE RECOGNITION"
   ]
  },
  {
   "cell_type": "markdown",
   "metadata": {},
   "source": [
    "### 手順  \n",
    "1. 顔検出  \n",
    "2. 同じ顔データの学習  \n",
    "3. 顔データの比較 \n",
    "4. 顔認識  "
   ]
  },
  {
   "cell_type": "markdown",
   "metadata": {},
   "source": [
    "## 2. THEORY OF OPENCV FACE RECOGNIZERS"
   ]
  },
  {
   "cell_type": "markdown",
   "metadata": {},
   "source": [
    "1. Data Gathering: Gather face data (face images in this case) of the persons you want to identify.  \n",
    "2. Train the Recognizer: Feed that face data and respective names of each face to the recognizer so that it can learn.  \n",
    "3. Recognition: Feed new faces of that people and see if the face recognizer you just trained recognizes them.  "
   ]
  },
  {
   "cell_type": "markdown",
   "metadata": {},
   "source": [
    "## 人物特定における3つの代表的アルゴリズム Eigenface, Fisherface, LBPH  \n",
    "  \n",
    "顔画像を固有顔に変換する、主成分分析（PCA）の処理過程は次のようになる  \n",
    "  \n",
    "1. 訓練用の画像（同じ照明条件、目や鼻の位置でスケーリング、同解像度）を準備  \n",
    "2. 訓練用画像の平均を求め、平均画像を各画像から減算する  \n",
    "3. 減算した画像の共分散行列を計算  \n",
    "4. 共分散行列から、固有ベクトルと固有値を計算  \n",
    "5. 主成分の選択    "
   ]
  },
  {
   "cell_type": "markdown",
   "metadata": {},
   "source": [
    "### A) Eigenface Face Recognizer（固有顔認識）    \n",
    "  \n",
    "固有顔集合を生成するには、人間の顔のデジタル化された画像（同じ照明条件でなければならない）を多数集積し、目と鼻の位置を合わせる    \n"
   ]
  },
  {
   "cell_type": "markdown",
   "metadata": {},
   "source": [
    "![title](https://www.superdatascience.com/wp-content/uploads/2017/08/Image-6-EigenFaces.png)  "
   ]
  },
  {
   "cell_type": "markdown",
   "metadata": {},
   "source": [
    "### B) Fisherfaces Face Recognizer\n",
    "  \n",
    "fisherface は固有顔に比較して、照明や角度の違いに影響されにくいという特徴がある  "
   ]
  },
  {
   "cell_type": "markdown",
   "metadata": {},
   "source": [
    "![title](https://camo.qiitausercontent.com/5528adfb9dc38e2c8d23e9389712415997927942/68747470733a2f2f71696974612d696d6167652d73746f72652e73332e616d617a6f6e6177732e636f6d2f302f3130373035362f31663761613562372d313966362d356661332d656664382d3138343563323938366363372e706e67)"
   ]
  },
  {
   "cell_type": "markdown",
   "metadata": {},
   "source": [
    "### C) Local Binary Patterns Histogram (LBPH)  \n",
    "  \n",
    "顔を小さなセルに分割し、各エリアのヒストグラムを比較することで、前述の2つよりサンプルの顔のサイズや形が異なっていても精度よく検出できる"
   ]
  },
  {
   "cell_type": "markdown",
   "metadata": {},
   "source": [
    "![title](https://camo.qiitausercontent.com/96213a8c9cce8aa1a42ca347d61905af07ff30bf/68747470733a2f2f71696974612d696d6167652d73746f72652e73332e616d617a6f6e6177732e636f6d2f302f3130373035362f61393165313362632d393332302d653236302d383932332d3430626665366233653638312e6a706567)"
   ]
  },
  {
   "cell_type": "code",
   "execution_count": 9,
   "metadata": {},
   "outputs": [],
   "source": [
    "#モジュールのインポート\n",
    "import cv2\n",
    "import os\n",
    "import numpy as np\n",
    "import matplotlib.pyplot as plt\n",
    "\n",
    "%matplotlib inline"
   ]
  },
  {
   "cell_type": "code",
   "execution_count": 3,
   "metadata": {},
   "outputs": [],
   "source": [
    "#there is no label 0 in our training data so subject name for index/label 0 is empty\n",
    "subjects = [\"\", \"Ramiz Raja\", \"Elvis Presley\"]"
   ]
  },
  {
   "cell_type": "markdown",
   "metadata": {},
   "source": [
    "#### OpenCVでは、各人物の顔画像にラベルをつける  \n",
    "  \n",
    "【人物】山田、田中、佐藤  \n",
    "【画像】（A:山田1枚目、B:山田２枚目）、（C:田中1枚目、D:田中２枚目）、（E:佐藤１枚目、F:佐藤２枚目）  \n",
    "【ラベル】(A,B) = 1, (C,D) = 2, (E,F) =3  "
   ]
  },
  {
   "cell_type": "code",
   "execution_count": 32,
   "metadata": {},
   "outputs": [],
   "source": [
    "# まずは画像から顔だけを検出する関数を作る\n",
    "def face_detection(img):\n",
    "# グレースケール化    \n",
    "    gray = cv2.cvtColor(img, cv2.COLOR_BGR2GRAY)"
   ]
  },
  {
   "cell_type": "code",
   "execution_count": null,
   "metadata": {},
   "outputs": [],
   "source": [
    "# LBPカスケード分類器を作成    \n",
    "face_cascade = cv2.CascadeClassifier('lbpcascade_frontalface.xml')\n",
    "\n",
    "# 画像内の顔を全て検出する\n",
    "faces = face_cascade.detectMultiScale(gray, scaleFactor=1.2, minNeighbors=5)\n",
    "\n",
    "# 画像内に顔が一つも認識されない場合は元の画像が帰るようにする\n",
    "if (len(faces) == 0):\n",
    "    return None, None\n",
    "\n",
    "# そもそも一つしか顔がない画像を使うため最初に認識された顔を検出する\n",
    "(x, y, w, h) = faces[0]\n",
    "\n",
    "# 顔と認識された部分の画像だけ切り抜いて出力する\n",
    "return gray[y:y+w, x:x+h], faces[0]"
   ]
  },
  {
   "cell_type": "code",
   "execution_count": 30,
   "metadata": {},
   "outputs": [],
   "source": [
    "# 各人物の学習用画像を読み込み、「顔画像」を検出する\n",
    "# また、「顔画像」と「人物ラベル」の2つのリストを返す\n",
    "def preproccesing_train_data(data_path): \n",
    "    \n",
    "    directories = os.listdir(data_path)\n",
    "    faces = []\n",
    "    labels = []\n",
    "    \n",
    "    # 各ディレクトリ内の画像を読み込むループを作成\n",
    "    for dir_name in directories:\n",
    "        \n",
    "        # 画像が入ったディレクトリだけを対象にする\n",
    "        if not dir_name.startswith(\"s\"):\n",
    "            continue\n",
    "            \n",
    "        # ディレクトリの番号をラベル番号にする\n",
    "        label = int(dir_name.replace(\"s\", \"\"))\n",
    "        \n",
    "        # 画像が入ったフォルダにパスを通す\n",
    "        subject_dir_path = data_path + \"/\" + dir_name\n",
    "        \n",
    "        # 画像のファイル名を取得する\n",
    "        subject_images_names = os.listdir(subject_dir_path)\n",
    "        \n",
    "        # 各画像から顔を検出して、「顔画像」の切り抜きを\"faces\"リストに入れる\n",
    "        for image_name in subject_images_names:\n",
    "            \n",
    "            if image_name.startswith(\".\"):\n",
    "                continue\n",
    "            \n",
    "            # 画像データへのパスを通す\n",
    "            image_path = subject_dir_path + \"/\" + image_name\n",
    "            \n",
    "            # 人物画像の読み込み\n",
    "            image = cv2.imread(image_path)\n",
    "            \n",
    "            cv2.imshow(\"Training on image...\", image)\n",
    "            cv2.waitKey(100)\n",
    "            \n",
    "            # 顔の検出（グレースケール）\n",
    "            face, rectangle = face_detection(image)\n",
    "\n",
    "            # 顔が検出できなかった画像のみリストに加える\n",
    "            if face is not None:\n",
    "                faces.append(face)\n",
    "                labels.append(label)\n",
    "    \n",
    "    # openCV特有のスクリーン上での動きの指定\n",
    "    cv2.destroyAllWindows()\n",
    "    cv2.waitKey(1)\n",
    "    cv2.destroyAllWindows()\n",
    "    \n",
    "    # 正しく顔を検出できた切り抜き画像のリストを回収する\n",
    "    return faces, labels"
   ]
  },
  {
   "cell_type": "markdown",
   "metadata": {},
   "source": [
    "#### ようやく学習用データを前処理する関数が完成したので実行する"
   ]
  },
  {
   "cell_type": "code",
   "execution_count": null,
   "metadata": {},
   "outputs": [],
   "source": [
    "# サイズが全て等しい顔の切り抜き画像リストを出力する\n",
    "print(\"Start loading data ...\")\n",
    "faces, labels = preproccesing_train_data('training-data')\n",
    "print(\"All Done!\")\n",
    "\n",
    "# 前処理完了済みデータの概要を把握\n",
    "print(\"Total number of faces : \", len(faces))\n",
    "print(\"Total number of unique figures : \", len(faces))"
   ]
  },
  {
   "cell_type": "markdown",
   "metadata": {},
   "source": [
    "ここではLBPHによる人物認識を試みる（一応他のアルゴリズムも準備する）"
   ]
  },
  {
   "cell_type": "code",
   "execution_count": null,
   "metadata": {},
   "outputs": [],
   "source": [
    "# LBPH  \n",
    "face_recognizer = cv2.face.createLBPHFaceRecognizer()\n",
    " \n",
    "# EigenFace\n",
    "#face_recognizer = cv2.face.createEigenFaceRecognizer()\n",
    " \n",
    "# FisherFace\n",
    "#face_recognizer = cv2.face.createFisherFaceRecognizer()"
   ]
  },
  {
   "cell_type": "code",
   "execution_count": null,
   "metadata": {},
   "outputs": [],
   "source": [
    "# 学習用データを噛ませて学習開始\n",
    "face_recognizer.train(faces, np.array(labels))"
   ]
  },
  {
   "cell_type": "markdown",
   "metadata": {},
   "source": [
    "## Prediction 未学習のデータを読み込ませて人物判定を試みる"
   ]
  },
  {
   "cell_type": "code",
   "execution_count": null,
   "metadata": {},
   "outputs": [],
   "source": []
  }
 ],
 "metadata": {
  "kernelspec": {
   "display_name": "Python 3",
   "language": "python",
   "name": "python3"
  },
  "language_info": {
   "codemirror_mode": {
    "name": "ipython",
    "version": 3
   },
   "file_extension": ".py",
   "mimetype": "text/x-python",
   "name": "python",
   "nbconvert_exporter": "python",
   "pygments_lexer": "ipython3",
   "version": "3.5.1"
  }
 },
 "nbformat": 4,
 "nbformat_minor": 2
}
